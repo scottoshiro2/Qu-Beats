{
 "cells": [
  {
   "cell_type": "code",
   "execution_count": 65,
   "metadata": {},
   "outputs": [],
   "source": [
    "from qiskit import *\n",
    "import numpy as np\n",
    "\n",
    "from mido import Message, MidiFile, MidiTrack\n",
    "from mido import *\n",
    "import mido\n",
    "\n",
    "from qiskit.tools.visualization import plot_histogram"
   ]
  },
  {
   "cell_type": "code",
   "execution_count": 66,
   "metadata": {},
   "outputs": [],
   "source": [
    "def add_circuit(qc):\n",
    "    qc.h(0)\n",
    "    qc.cx(0,1)\n",
    "    return qc"
   ]
  },
  {
   "cell_type": "code",
   "execution_count": 67,
   "metadata": {},
   "outputs": [],
   "source": [
    "def Teleportation(qc):\n",
    "    qc.z(0); qc.h(0)\n",
    "    qc.h(1)\n",
    "    qc.cx(1,2); qc.cx(0,1)\n",
    "    \n",
    "    qc.measure(1,1)\n",
    "    qc.cx(1,2); qc.h(0)\n",
    "    qc.measure(0,0)\n",
    "    qc.cz(0,2)\n",
    "    \n",
    "    qc.h(2); qc.z(2)\n",
    "    qc.measure(2,2)\n",
    "    \n",
    "    return qc"
   ]
  },
  {
   "cell_type": "code",
   "execution_count": 68,
   "metadata": {},
   "outputs": [],
   "source": [
    "def grover(qc):\n",
    "    qc.h(0)\n",
    "    qc.h(1)\n",
    "\n",
    "    qc.x(0)\n",
    "    qc.x(1)\n",
    "    \n",
    "    qc.cz(0,1)\n",
    "    qc.x(0)\n",
    "    qc.x(1)\n",
    "    \n",
    "    qc.h(0)\n",
    "    qc.h(1)\n",
    "    \n",
    "    qc.cz(0,1)\n",
    "    qc.h(0)\n",
    "    qc.h(1)\n",
    "    \n",
    "    return qc"
   ]
  },
  {
   "cell_type": "code",
   "execution_count": 69,
   "metadata": {},
   "outputs": [],
   "source": [
    "def Bertstein_Vazirani(qc):\n",
    "    qc.h(0); qc.h(1); qc.h(2); qc.h(3)\n",
    "    qc.z(0); qc.z(1); qc.z(2); qc.z(3)\n",
    "    qc.h(0); qc.h(1); qc.h(2); qc.h(3)\n",
    "    \n",
    "    qc.measure([0,1,2,3], [0,1,2,3])\n",
    "    return qc"
   ]
  },
  {
   "cell_type": "code",
   "execution_count": 70,
   "metadata": {},
   "outputs": [],
   "source": [
    "Beat_array = []\n",
    "Beat1 = [0,1,0,0,1,0,1,0,1,0]; Beat_array.append(Beat1)\n",
    "Beat2 = [1,1,0,1,1,0,1,1,1,1]; Beat_array.append(Beat2)\n",
    "Beat3 = [0,0,0,1,1,1,1,0,0,1]; Beat_array.append(Beat3)\n",
    "Beat4 = [1,0,0,0,1,1,0,0,0,1]; Beat_array.append(Beat4)\n"
   ]
  },
  {
   "cell_type": "code",
   "execution_count": null,
   "metadata": {},
   "outputs": [],
   "source": []
  },
  {
   "cell_type": "code",
   "execution_count": 71,
   "metadata": {},
   "outputs": [],
   "source": [
    "## The 4 starting Beats being converted to MIDI\n",
    "\n",
    "mid = MidiFile()\n",
    "track = MidiTrack()\n",
    "mid.tracks.append(track)\n",
    "\n",
    "current_time = 0\n",
    "\n",
    "for bt in Beat_array[0]:\n",
    "    if bt == 1:\n",
    "        track.append(Message('note_on', note=32, time=100))#current_time))\n",
    "    else:\n",
    "        track.append(Message('note_off', note=32,time=100))#current_time))\n",
    "    #current_time = current_time + 32\n",
    "\n",
    "mid.save('/Users/scottoshiro/Documents/Qiskit_Camp/pBeat1.mid')\n",
    "\n",
    "mid = MidiFile()\n",
    "track = MidiTrack()\n",
    "mid.tracks.append(track)\n",
    "\n",
    "\n",
    "for bt in Beat_array[1]:\n",
    "    if bt == 1:\n",
    "        track.append(Message('note_on', note=35, time=100))#current_time))\n",
    "    else:\n",
    "        track.append(Message('note_off', note=35, time=100))#current_time))\n",
    "    #current_time = current_time + 32\n",
    "\n",
    "mid.save('/Users/scottoshiro/Documents/Qiskit_Camp/pBeat2.mid')\n",
    "\n",
    "mid = MidiFile()\n",
    "track = MidiTrack()\n",
    "mid.tracks.append(track)\n",
    "\n",
    "\n",
    "for bt in Beat_array[2]:\n",
    "    if bt == 1:\n",
    "        track.append(Message('note_on', note=38, time=100))#current_time))\n",
    "    else:\n",
    "        track.append(Message('note_off', note=38, time=100))#current_time))\n",
    "    #current_time = current_time + 32\n",
    "\n",
    "mid.save('/Users/scottoshiro/Documents/Qiskit_Camp/pBeat3.mid')\n",
    "\n",
    "mid = MidiFile()\n",
    "track = MidiTrack()\n",
    "mid.tracks.append(track)\n",
    "\n",
    "\n",
    "for bt in Beat_array[3]:\n",
    "    if bt == 1:\n",
    "        track.append(Message('note_on', note=40, time=100))#current_time))\n",
    "    else:\n",
    "        track.append(Message('note_off', note=40, time=100))#current_time))\n",
    "    #current_time = current_time + 32\n",
    "\n",
    "mid.save('/Users/scottoshiro/Documents/Qiskit_Camp/pBeat4.mid')"
   ]
  },
  {
   "cell_type": "code",
   "execution_count": 72,
   "metadata": {},
   "outputs": [],
   "source": [
    "qr = QuantumRegister(2)\n",
    "cr = ClassicalRegister(2)"
   ]
  },
  {
   "cell_type": "code",
   "execution_count": 73,
   "metadata": {},
   "outputs": [
    {
     "data": {
      "image/png": "[encoded data removed]",
      "text/plain": [
       "<Figure size 408.156x204.68 with 1 Axes>"
      ]
     },
     "execution_count": 73,
     "metadata": {},
     "output_type": "execute_result"
    }
   ],
   "source": [
    "#qc = QuantumCircuit(qr, cr)\n",
    "circuits = []\n",
    "\n",
    "for i, val in enumerate(Beat1):\n",
    "    qc = QuantumCircuit(qr, cr)\n",
    "    if val == 1:\n",
    "        qc.x(0)\n",
    "        \n",
    "    if Beat2[i] == 1:\n",
    "        qc.x(1)\n",
    "        \n",
    "    add_circuit(qc)\n",
    "    \n",
    "    qc.measure([0,1], [0,1])\n",
    "    circuits.append(qc)\n",
    "    \n",
    "circuits[0].draw(output='mpl')"
   ]
  },
  {
   "cell_type": "code",
   "execution_count": null,
   "metadata": {},
   "outputs": [],
   "source": []
  },
  {
   "cell_type": "code",
   "execution_count": null,
   "metadata": {},
   "outputs": [],
   "source": []
  },
  {
   "cell_type": "code",
   "execution_count": 74,
   "metadata": {},
   "outputs": [
    {
     "name": "stdout",
     "output_type": "stream",
     "text": [
      "[0, 1, 1, 0, 1, 0, 1, 0, 1, 1]\n",
      "[1, 0, 1, 1, 0, 0, 0, 1, 0, 0]\n"
     ]
    },
    {
     "data": {
      "text/plain": [
       "(None, None)"
      ]
     },
     "execution_count": 74,
     "metadata": {},
     "output_type": "execute_result"
    }
   ],
   "source": [
    "## Execuuting code\n",
    "\n",
    "simulator = Aer.get_backend('qasm_simulator')\n",
    "result = execute(circuits, backend = simulator, shots=1).result()\n",
    "\n",
    "cir_array = []\n",
    "\n",
    "for c in circuits:\n",
    "    cir_array.append([k for k in result.get_counts(c).keys()][0])\n",
    "\n",
    "new_track1 = []\n",
    "new_track2 = []\n",
    "    \n",
    "for b in cir_array:\n",
    "    new_track1.append(int(b[0]))\n",
    "    new_track2.append(int(b[1]))\n",
    "    \n",
    "#print(cir_array); \n",
    "print(new_track1), print(new_track2)"
   ]
  },
  {
   "cell_type": "code",
   "execution_count": 41,
   "metadata": {},
   "outputs": [],
   "source": [
    "## New Midi Rhythms\n",
    "\n",
    "mid = MidiFile()\n",
    "track = MidiTrack()\n",
    "mid.tracks.append(track)\n",
    "\n",
    "current_time = 0\n",
    "\n",
    "for bt in new_track1:\n",
    "    if bt == 1:\n",
    "        track.append(Message('note_on', note=32, time=100))#current_time))\n",
    "    else:\n",
    "        track.append(Message('note_off',  note=32, time=100))#current_time))\n",
    "    #current_time = current_time + 32\n",
    "\n",
    "mid.save('/Users/scottoshiro/Documents/Qiskit_Camp/Bell_Circ.mid')\n",
    "\n",
    "mid = MidiFile()\n",
    "track2 = MidiTrack()\n",
    "mid.tracks.append(track2)\n",
    "\n",
    "current_time = 0\n",
    "\n",
    "for bt in new_track2:\n",
    "    if bt == 1:\n",
    "        track2.append(Message('note_on', note=35, time=100))#current_time))\n",
    "    else:\n",
    "        track2.append(Message('note_off', note=35, time=100))#current_time))\n",
    "    #current_time = current_time + 32\n",
    "mid.save('/Users/scottoshiro/Documents/Qiskit_Camp/Bell_Circ2.mid')"
   ]
  },
  {
   "cell_type": "code",
   "execution_count": 192,
   "metadata": {},
   "outputs": [],
   "source": [
    "###--------------- Rhythm #2 ------------------------------------------------------------------------------------------"
   ]
  },
  {
   "cell_type": "code",
   "execution_count": null,
   "metadata": {},
   "outputs": [],
   "source": []
  },
  {
   "cell_type": "code",
   "execution_count": 105,
   "metadata": {},
   "outputs": [],
   "source": [
    "qr = QuantumRegister(3)\n",
    "cr = ClassicalRegister(3)"
   ]
  },
  {
   "cell_type": "code",
   "execution_count": 106,
   "metadata": {},
   "outputs": [
    {
     "data": {
      "image/png": "[encoded data removed]",
      "text/plain": [
       "<Figure size 900.592x264.88 with 1 Axes>"
      ]
     },
     "execution_count": 106,
     "metadata": {},
     "output_type": "execute_result"
    }
   ],
   "source": [
    "circuits = []\n",
    "\n",
    "for i, val in enumerate(Beat1):\n",
    "    qc = QuantumCircuit(qr, cr)\n",
    "    if val == 1:\n",
    "        qc.x(0)\n",
    "        \n",
    "    if Beat2[i] == 1:\n",
    "        qc.x(1)\n",
    "        \n",
    "    if Beat3[i] == 1:\n",
    "        qc.x(2)\n",
    "    \n",
    "    qc.barrier()\n",
    "    Teleportation(qc)\n",
    "    \n",
    "    circuits.append(qc)\n",
    "    \n",
    "circuits[0].draw(output='mpl')"
   ]
  },
  {
   "cell_type": "code",
   "execution_count": 107,
   "metadata": {},
   "outputs": [],
   "source": [
    "simulator = Aer.get_backend('qasm_simulator')"
   ]
  },
  {
   "cell_type": "code",
   "execution_count": 125,
   "metadata": {},
   "outputs": [
    {
     "data": {
      "image/png": "[encoded data removed]",
      "text/plain": [
       "<Figure size 504x360 with 1 Axes>"
      ]
     },
     "execution_count": 125,
     "metadata": {},
     "output_type": "execute_result"
    }
   ],
   "source": [
    "result = execute(circuits, backend = simulator, shots=1).result()\n",
    "plot_histogram(result.get_counts(qc))"
   ]
  },
  {
   "cell_type": "code",
   "execution_count": 118,
   "metadata": {},
   "outputs": [
    {
     "name": "stdout",
     "output_type": "stream",
     "text": [
      "1\n"
     ]
    }
   ],
   "source": [
    "print(len(result.results))"
   ]
  },
  {
   "cell_type": "code",
   "execution_count": 121,
   "metadata": {},
   "outputs": [
    {
     "name": "stdout",
     "output_type": "stream",
     "text": [
      "[1, 0, 0, 1, 0, 0, 0, 1, 0, 1]\n",
      "[0, 1, 0, 0, 0, 0, 1, 1, 0, 0]\n",
      "[1, 1, 1, 1, 0, 1, 0, 1, 0, 1]\n"
     ]
    }
   ],
   "source": [
    "## Execuuting code\n",
    "cir_array = []\n",
    "\n",
    "for c in circuits:\n",
    "    cir_array.append([k for k in result.get_counts(c).keys()][0])\n",
    "\n",
    "new_track1 = []\n",
    "new_track2 = []\n",
    "new_track3 = []\n",
    "    \n",
    "for b in cir_array:\n",
    "    new_track1.append(int(b[0]))\n",
    "    new_track2.append(int(b[1]))\n",
    "    new_track3.append(int(b[2]))\n",
    "    \n",
    "#print(cir_array); \n",
    "print(new_track1), print(new_track2); print(new_track3)"
   ]
  },
  {
   "cell_type": "code",
   "execution_count": 213,
   "metadata": {},
   "outputs": [],
   "source": [
    "qr = QuantumRegister(4)\n",
    "cr = ClassicalRegister(4)"
   ]
  },
  {
   "cell_type": "code",
   "execution_count": 214,
   "metadata": {},
   "outputs": [
    {
     "data": {
      "image/png": "[encoded data removed]",
      "text/plain": [
       "<Figure size 719.992x325.08 with 1 Axes>"
      ]
     },
     "execution_count": 214,
     "metadata": {},
     "output_type": "execute_result"
    }
   ],
   "source": [
    "circuits = []\n",
    "\n",
    "for i, val in enumerate(Beat1):\n",
    "    qc = QuantumCircuit(qr, cr)\n",
    "    if val == 1:\n",
    "        qc.x(0)\n",
    "        \n",
    "    if Beat2[i] == 1:\n",
    "        qc.x(1)\n",
    "        \n",
    "    if Beat2[i] == 1:\n",
    "        qc.x(2)\n",
    "    \n",
    "    if Beat2[i] == 1:\n",
    "        qc.x(3)\n",
    "        \n",
    "    qc.barrier()\n",
    "    Bertstein_Vazirani(qc)\n",
    "    \n",
    "    circuits.append(qc)\n",
    "    \n",
    "    \n",
    "circuits[0].draw(output='mpl')"
   ]
  },
  {
   "cell_type": "code",
   "execution_count": 212,
   "metadata": {},
   "outputs": [
    {
     "data": {
      "image/png": "[encoded data removed]",
      "text/plain": [
       "<Figure size 504x360 with 1 Axes>"
      ]
     },
     "execution_count": 212,
     "metadata": {},
     "output_type": "execute_result"
    }
   ],
   "source": [
    "simulator = Aer.get_backend('qasm_simulator')\n",
    "result = execute(circuits, backend = simulator, shots=1024).result()\n",
    "plot_histogram(result.get_counts(circuits[4]))"
   ]
  },
  {
   "cell_type": "code",
   "execution_count": 49,
   "metadata": {},
   "outputs": [
    {
     "ename": "QiskitError",
     "evalue": "'Data for experiment \"circuit40\" could not be found.'",
     "output_type": "error",
     "traceback": [
      "\u001b[0;31m---------------------------------------------------------------------------\u001b[0m",
      "\u001b[0;31mStopIteration\u001b[0m                             Traceback (most recent call last)",
      "\u001b[0;32m/Library/Frameworks/Python.framework/Versions/3.7/lib/python3.7/site-packages/qiskit/result/result.py\u001b[0m in \u001b[0;36m_get_experiment\u001b[0;34m(self, key)\u001b[0m\n\u001b[1;32m    259\u001b[0m         \u001b[0;31m# Key is an integer: return result by index.\u001b[0m\u001b[0;34m\u001b[0m\u001b[0;34m\u001b[0m\u001b[0m\n\u001b[0;32m--> 260\u001b[0;31m         \u001b[0;32mif\u001b[0m \u001b[0misinstance\u001b[0m\u001b[0;34m(\u001b[0m\u001b[0mkey\u001b[0m\u001b[0;34m,\u001b[0m \u001b[0mint\u001b[0m\u001b[0;34m)\u001b[0m\u001b[0;34m:\u001b[0m\u001b[0;34m\u001b[0m\u001b[0m\n\u001b[0m\u001b[1;32m    261\u001b[0m             \u001b[0mexp\u001b[0m \u001b[0;34m=\u001b[0m \u001b[0mself\u001b[0m\u001b[0;34m.\u001b[0m\u001b[0mresults\u001b[0m\u001b[0;34m[\u001b[0m\u001b[0mkey\u001b[0m\u001b[0;34m]\u001b[0m\u001b[0;34m\u001b[0m\u001b[0m\n",
      "\u001b[0;31mStopIteration\u001b[0m: ",
      "\nDuring handling of the above exception, another exception occurred:\n",
      "\u001b[0;31mQiskitError\u001b[0m                               Traceback (most recent call last)",
      "\u001b[0;32m<ipython-input-49-2799b62704e8>\u001b[0m in \u001b[0;36m<module>\u001b[0;34m\u001b[0m\n\u001b[1;32m      3\u001b[0m \u001b[0;34m\u001b[0m\u001b[0m\n\u001b[1;32m      4\u001b[0m \u001b[0;32mfor\u001b[0m \u001b[0mc\u001b[0m \u001b[0;32min\u001b[0m \u001b[0mcircuits\u001b[0m\u001b[0;34m:\u001b[0m\u001b[0;34m\u001b[0m\u001b[0m\n\u001b[0;32m----> 5\u001b[0;31m     \u001b[0mcir_array\u001b[0m\u001b[0;34m.\u001b[0m\u001b[0mappend\u001b[0m\u001b[0;34m(\u001b[0m\u001b[0;34m[\u001b[0m\u001b[0mk\u001b[0m \u001b[0;32mfor\u001b[0m \u001b[0mk\u001b[0m \u001b[0;32min\u001b[0m \u001b[0mresult\u001b[0m\u001b[0;34m.\u001b[0m\u001b[0mget_counts\u001b[0m\u001b[0;34m(\u001b[0m\u001b[0mc\u001b[0m\u001b[0;34m)\u001b[0m\u001b[0;34m.\u001b[0m\u001b[0mkeys\u001b[0m\u001b[0;34m(\u001b[0m\u001b[0;34m)\u001b[0m\u001b[0;34m]\u001b[0m\u001b[0;34m[\u001b[0m\u001b[0;36m0\u001b[0m\u001b[0;34m]\u001b[0m\u001b[0;34m)\u001b[0m\u001b[0;34m\u001b[0m\u001b[0m\n\u001b[0m\u001b[1;32m      6\u001b[0m \u001b[0;34m\u001b[0m\u001b[0m\n\u001b[1;32m      7\u001b[0m \u001b[0mnew_track1\u001b[0m \u001b[0;34m=\u001b[0m \u001b[0;34m[\u001b[0m\u001b[0;34m]\u001b[0m\u001b[0;34m\u001b[0m\u001b[0m\n",
      "\u001b[0;32m/Library/Frameworks/Python.framework/Versions/3.7/lib/python3.7/site-packages/qiskit/result/result.py\u001b[0m in \u001b[0;36mget_counts\u001b[0;34m(self, experiment)\u001b[0m\n\u001b[1;32m    173\u001b[0m         \u001b[0mRaises\u001b[0m\u001b[0;34m:\u001b[0m\u001b[0;34m\u001b[0m\u001b[0m\n\u001b[1;32m    174\u001b[0m             \u001b[0mQiskitError\u001b[0m\u001b[0;34m:\u001b[0m \u001b[0;32mif\u001b[0m \u001b[0mthere\u001b[0m \u001b[0mare\u001b[0m \u001b[0mno\u001b[0m \u001b[0mcounts\u001b[0m \u001b[0;32mfor\u001b[0m \u001b[0mthe\u001b[0m \u001b[0mexperiment\u001b[0m\u001b[0;34m.\u001b[0m\u001b[0;34m\u001b[0m\u001b[0m\n\u001b[0;32m--> 175\u001b[0;31m         \"\"\"\n\u001b[0m\u001b[1;32m    176\u001b[0m         \u001b[0mexp\u001b[0m \u001b[0;34m=\u001b[0m \u001b[0mself\u001b[0m\u001b[0;34m.\u001b[0m\u001b[0m_get_experiment\u001b[0m\u001b[0;34m(\u001b[0m\u001b[0mexperiment\u001b[0m\u001b[0;34m)\u001b[0m\u001b[0;34m\u001b[0m\u001b[0m\n\u001b[1;32m    177\u001b[0m         \u001b[0;32mtry\u001b[0m\u001b[0;34m:\u001b[0m\u001b[0;34m\u001b[0m\u001b[0m\n",
      "\u001b[0;32m/Library/Frameworks/Python.framework/Versions/3.7/lib/python3.7/site-packages/qiskit/result/result.py\u001b[0m in \u001b[0;36m_get_experiment\u001b[0;34m(self, key)\u001b[0m\n\u001b[1;32m    263\u001b[0m             \u001b[0;32mtry\u001b[0m\u001b[0;34m:\u001b[0m\u001b[0;34m\u001b[0m\u001b[0m\n\u001b[1;32m    264\u001b[0m                 \u001b[0;31m# Look into `result[x].header.name` for the names.\u001b[0m\u001b[0;34m\u001b[0m\u001b[0;34m\u001b[0m\u001b[0m\n\u001b[0;32m--> 265\u001b[0;31m                 exp = next(result for result in self.results\n\u001b[0m\u001b[1;32m    266\u001b[0m                            if getattr(getattr(result, 'header', None),\n\u001b[1;32m    267\u001b[0m                                       'name', '') == key)\n",
      "\u001b[0;31mQiskitError\u001b[0m: 'Data for experiment \"circuit40\" could not be found.'"
     ]
    }
   ],
   "source": [
    "## Execuuting code\n",
    "cir_array = []\n",
    "\n",
    "for c in circuits:\n",
    "    cir_array.append([k for k in result.get_counts(c).keys()][0])\n",
    "\n",
    "new_track1 = []\n",
    "new_track2 = []\n",
    "new_track3 = []\n",
    "    \n",
    "for b in cir_array:\n",
    "    new_track1.append(int(b[0]))\n",
    "    new_track2.append(int(b[1]))\n",
    "    new_track3.append(int(b[2]))\n",
    "    \n",
    "#print(cir_array); \n",
    "print(new_track1), print(new_track2); print(new_track3)"
   ]
  },
  {
   "cell_type": "code",
   "execution_count": 123,
   "metadata": {},
   "outputs": [],
   "source": [
    "mid = MidiFile()\n",
    "track = MidiTrack()\n",
    "mid.tracks.append(track)\n",
    "\n",
    "for bt in new_track1:\n",
    "    if bt == 1:\n",
    "        track.append(Message('note_on', note=32, time=100))#current_time))\n",
    "    else:\n",
    "        track.append(Message('note_off', note=32, time=100))#current_time))\n",
    "    #current_time = current_time + 32\n",
    "\n",
    "mid.save('/Users/scottoshiro/Documents/Qiskit_Camp/new_teleport1.mid')\n",
    "\n",
    "mid = MidiFile()\n",
    "track2 = MidiTrack()\n",
    "mid.tracks.append(track2)\n",
    "\n",
    "for bt in new_track2:\n",
    "    if bt == 1:\n",
    "        track2.append(Message('note_on', note=35, time=100))#current_time))\n",
    "    else:\n",
    "        track2.append(Message('note_off', note=35,time=100))#current_time))\n",
    "    #current_time = current_time + 32\n",
    "\n",
    "mid.save('/Users/scottoshiro/Documents/Qiskit_Camp/new_teleport2.mid')\n",
    "\n",
    "mid = MidiFile()\n",
    "track3 = MidiTrack()\n",
    "mid.tracks.append(track3)\n",
    "\n",
    "for bt in new_track3:\n",
    "    if bt == 1:\n",
    "        track3.append(Message('note_on', note=38, time=100))#current_time))\n",
    "    else:\n",
    "        track3.append(Message('note_off', note=38, time=100))#current_time))\n",
    "    #current_time = current_time + 32\n",
    "\n",
    "mid.save('/Users/scottoshiro/Documents/Qiskit_Camp/new_teleport3.mid')"
   ]
  },
  {
   "cell_type": "code",
   "execution_count": 75,
   "metadata": {},
   "outputs": [],
   "source": [
    "## -----------------------------------------------------------------------"
   ]
  },
  {
   "cell_type": "code",
   "execution_count": 76,
   "metadata": {},
   "outputs": [],
   "source": [
    "## The 4 starting Beats being converted to MIDI\n",
    "\n",
    "mid = MidiFile()\n",
    "track = MidiTrack()\n",
    "mid.tracks.append(track)\n",
    "\n",
    "current_time = 0\n",
    "\n",
    "for bt in Beat_array[0]:\n",
    "    if bt == 1:\n",
    "        track.append(Message('note_on', time=100))#current_time))\n",
    "    else:\n",
    "        track.append(Message('note_off', time=100))#current_time))\n",
    "    #current_time = current_time + 32\n",
    "\n",
    "mid.save('/Users/scottoshiro/Documents/Qiskit_Camp/pBeat1.mid')\n",
    "\n",
    "mid = MidiFile()\n",
    "track = MidiTrack()\n",
    "mid.tracks.append(track)\n",
    "\n",
    "\n",
    "for bt in Beat_array[1]:\n",
    "    if bt == 1:\n",
    "        track.append(Message('note_on', time=100))#current_time))\n",
    "    else:\n",
    "        track.append(Message('note_off', time=100))#current_time))\n",
    "    #current_time = current_time + 32\n",
    "\n",
    "mid.save('/Users/scottoshiro/Documents/Qiskit_Camp/pBeat2.mid')\n",
    "\n",
    "mid = MidiFile()\n",
    "track = MidiTrack()\n",
    "mid.tracks.append(track)\n",
    "\n",
    "\n",
    "for bt in Beat_array[2]:\n",
    "    if bt == 1:\n",
    "        track.append(Message('note_on', time=100))#current_time))\n",
    "    else:\n",
    "        track.append(Message('note_off', time=100))#current_time))\n",
    "    #current_time = current_time + 32\n",
    "\n",
    "mid.save('/Users/scottoshiro/Documents/Qiskit_Camp/pBeat3.mid')\n",
    "\n",
    "mid = MidiFile()\n",
    "track = MidiTrack()\n",
    "mid.tracks.append(track)\n",
    "\n",
    "\n",
    "for bt in Beat_array[3]:\n",
    "    if bt == 1:\n",
    "        track.append(Message('note_on', time=100))#current_time))\n",
    "    else:\n",
    "        track.append(Message('note_off', time=100))#current_time))\n",
    "    #current_time = current_time + 32\n",
    "\n",
    "mid.save('/Users/scottoshiro/Documents/Qiskit_Camp/pBeat4.mid')"
   ]
  },
  {
   "cell_type": "code",
   "execution_count": null,
   "metadata": {},
   "outputs": [],
   "source": []
  }
 ],
 "metadata": {
  "kernelspec": {
   "display_name": "Python 3",
   "language": "python",
   "name": "python3"
  },
  "language_info": {
   "codemirror_mode": {
    "name": "ipython",
    "version": 3
   },
   "file_extension": ".py",
   "mimetype": "text/x-python",
   "name": "python",
   "nbconvert_exporter": "python",
   "pygments_lexer": "ipython3",
   "version": "3.7.0"
  }
 },
 "nbformat": 4,
 "nbformat_minor": 2
}
